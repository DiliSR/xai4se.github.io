{
 "cells": [
  {
   "cell_type": "markdown",
   "id": "thorough-vampire",
   "metadata": {},
   "source": [
    "# Defect Prediction"
   ]
  },
  {
   "cell_type": "markdown",
   "id": "intense-luxembourg",
   "metadata": {},
   "source": [
    "Our society is now driven by software. But, one software defect could have an ultimate impact on the society, financial economy, and human lives, ranging from IT services disruption, massive overdose of radiotherapy of Therac-25, to an explosion of the Ariane 5 rocket. These failures are often due to the discovery of the majority of software defects after release, while they are often introduced in the early development life cycle like the requirements, design, release planning. Since the cost of defect fixing is exponentially increase (especially fix in production) (Brooks 1995), finding and fixing software defects prior to releasing software is usually much cheaper and faster. \n",
    "\n",
    "**Software quality assurance** is neither a process nor a phase but a must-need systematic practice to ensure that the product meets the quality standards, especially for the development of any life-impacting and safety-critical software systems. Thus, QA practices must be embedded as a quality culture throughout the life cycles from planning to release so teams can follow best practices to prevent defects, rather than wasting time detecting them.\n",
    "\n",
    "However, modern software development practices like Agile pose several challenges to the current SQA practices. In modern practices, everyone is accountable and quality is everyone’s responsibility. Thus, developers are encouraged to test their own code and to write sufficient and effective unit tests to ensure the new code has no obvious errors and to get notified quickly as soon as something is broken. Several defect detection tools are used during the software development life cycle. For example, automation testing (e.g., CI/CD) can be used to enable the automation of test execution where the code coverage is used to infer a certain level of quality in the meaningful test cases. Static analysis is used to detect bugs, but produce too many false positives or false alarms. Code review can be used to review all code changes prior to integrating a pull request into the main branch repository. \n",
    "\n",
    "Despite these SQA tools being invested and adopted, software defects might still occur since these tools do not guarantee a bug-free software product. They also neither identify the problematic areas that may lead to software defects after release (i.e., post-release software defects) nor provide any actionable guidance how to mitigate risks. As a result, it could lead to ineffective and inefficient software quality assurance practices. Teams may release poor quality of software products to customers, causing slow project progress and high costs of software development, unsatisfactory software products, unhappy end-users, and serious monetary and reputation losses for that software organization. \n",
    "\n",
    "<need an example scenario of post-release software defects, dev starts implement features, QA assists teams, prepare to release, QA makes ad-hoc decision, release to customer, defects pass through, lots of bug and crash reports, example of bug reports, customers are not happy, >\n",
    "Configuration issues, network issues, database-related issues, GUI, performance, permission issues, security issues, (https://arxiv.org/pdf/1907.11031.pdf)\n",
    "\n",
    "Our team believes that prevention is better than cure, i.e., software products are delivered with higher quality if we prevent defects from the early phase of software development rather than detect and fix them at a later stage. Thus, intelligence support to assess quality risk, Identify potential defective areas, and generate actionable guidance is needed to support modern QA practices.\n",
    "\n",
    "Consider an example of an Agile SQA practice inside the Atlassian company, Australia's largest software company with a variety of well-known software products e.g., JIRA Issue Tracking System, BitBucket, and Trello. Figure 1 summarises a JIRA Software Development Process. During this process, a QA engineer has multiple points at which he or she provides feedback into the way the feature is developed and tested—i.e., providing every form of quality improvement except testing the software. QA engineers provide feedback and guidance during all steps of the software development process from planning to completion. This process allows for active feedback, ensuring that knowledge gained from previous software defects is fed back in to the testing notes for future releases.\n",
    "\n",
    "In the development cycle/release planning, the quality risk analysis will be conducted for the most appropriate release planning, task allocation, task prioritisation. For example, QA aims to identify where is the risky area, is it high priority, how risky they are, how long does it take to fix it. So the risky areas of code are flagged for more thorough testing. In the release preparation, a final check is needed to ensure there are no risky areas that will be defective after release. However, an analysis of such risky is ad-hoc. If a decision is made without evidence, developers may waste their time on testing non risky and low priority areas of code. \n",
    "\n",
    "In addition, QA engineers still encounter various QA planning problems during the planning steps. In particular, without analyzing historical data, he can't understand what are the key risky practices for this team/project, what are the non-risky practices, what are key things to avoid that increase the risk of having defects, and what are the things to do to decrease the risk of having defects. This results in a failure to develop the most effective SQA plan. It is due to a lack of understanding of the risky and non-risky practices in the team for the current project, and Bob lacks guidance on what to do and what to avoid, leading to poor SQA and software development workflows.\n",
    "\n"
   ]
  },
  {
   "cell_type": "code",
   "execution_count": null,
   "id": "exterior-blind",
   "metadata": {},
   "outputs": [],
   "source": []
  }
 ],
 "metadata": {
  "kernelspec": {
   "display_name": "xaitools",
   "language": "python",
   "name": "xaitools"
  },
  "language_info": {
   "codemirror_mode": {
    "name": "ipython",
    "version": 3
   },
   "file_extension": ".py",
   "mimetype": "text/x-python",
   "name": "python",
   "nbconvert_exporter": "python",
   "pygments_lexer": "ipython3",
   "version": "3.6.13"
  }
 },
 "nbformat": 4,
 "nbformat_minor": 5
}
