{
 "cells": [
  {
   "cell_type": "markdown",
   "metadata": {},
   "source": [
    "# Explainable AI: A Primer\n",
    "\n",
    "\n",
    "Explainable AI is a suite of AI/ML techniques that produce accurate\n",
    "predictions, while being able to explain such predictions. The purpose\n",
    "of increasing the explainability of software analytics (XAI4SE) is to\n",
    "make its behavior more intelligible to humans by providing explanations.\n",
    "\n",
    "\n",
    "\n",
    "## Techniques for Generating Explanations\n",
    "\n",
    "Scopes\n",
    "\n",
    "### Model-Specific Techniques (model-level)\n",
    "\n",
    "### Model-Agnostic Techniques (instance-level)\n",
    "\n",
    "\n",
    "\n",
    "# Explainable AI Software Engineering\n",
    "\n",
    "## The Prevalence of AI in SE\n",
    "\n",
    "what are SE problems so we need lots of AI to help.\n",
    "\n",
    "## Lack of Explainability and Trust\n",
    "\n",
    "- negative impact\n",
    "\n",
    "## Example Case Studies\n",
    "\n",
    "- help ABC\n",
    "\n",
    "## Open Research Questions\n",
    "\n",
    "\n",
    "\n",
    "\n",
    "## Stop Telling Me What It Is!\n",
    "\n"
   ]
  },
  {
   "cell_type": "code",
   "execution_count": null,
   "metadata": {},
   "outputs": [],
   "source": []
  }
 ],
 "metadata": {
  "kernelspec": {
   "display_name": "xaitools",
   "language": "python",
   "name": "xaitools"
  },
  "language_info": {
   "codemirror_mode": {
    "name": "ipython",
    "version": 3
   },
   "file_extension": ".py",
   "mimetype": "text/x-python",
   "name": "python",
   "nbconvert_exporter": "python",
   "pygments_lexer": "ipython3",
   "version": "3.6.13"
  }
 },
 "nbformat": 4,
 "nbformat_minor": 4
}
