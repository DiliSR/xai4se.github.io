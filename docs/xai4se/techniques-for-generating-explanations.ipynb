{
 "cells": [
  {
   "cell_type": "markdown",
   "metadata": {},
   "source": [
    "# Techniques for Generating Explanations"
   ]
  },
  {
   "cell_type": "markdown",
   "metadata": {},
   "source": [
    "scope: global vs local"
   ]
  },
  {
   "cell_type": "markdown",
   "metadata": {},
   "source": [
    "\n",
    "The explainability of software analytics can be achieved by:\n",
    "\n",
    "-   **\"Global Explanability\\\":** Using interpretable machine learning\n",
    "    techniques (e.g., decision tree, decision rules or logistic\n",
    "    regression techniques) or intrinsic model-specific techniques (e.g.,\n",
    "    ANOVA, variable importance) so the entire predictions and\n",
    "    recommendations process are transparent and comprehensible. Such\n",
    "    intrinsic model-specific techniques aim to provide the global\n",
    "    explainability. Thus, users can only understand how the model works\n",
    "    globally (e.g., by inspecting a branch of decision trees). However,\n",
    "    users often do not understand why the model makes that prediction.\n",
    "\n",
    "-   **\"Local Explanability\\\":** Using model-agnostic techniques (e.g.,\n",
    "    LIME {cite}`ribeiro2016should`) to explain the predictions of the\n",
    "    software analytics models (e.g., neural network, random forest).\n",
    "    Such post-hoc model-agnostic techniques can provide an explanation\n",
    "    for each prediction (i.e., an instance to be explained). Users can\n",
    "    then understand why the prediction is made by the software analytics\n",
    "    models."
   ]
  }
 ],
 "metadata": {
  "kernelspec": {
   "display_name": "xaitools",
   "language": "python",
   "name": "xaitools"
  },
  "language_info": {
   "codemirror_mode": {
    "name": "ipython",
    "version": 3
   },
   "file_extension": ".py",
   "mimetype": "text/x-python",
   "name": "python",
   "nbconvert_exporter": "python",
   "pygments_lexer": "ipython3",
   "version": "3.6.13"
  }
 },
 "nbformat": 4,
 "nbformat_minor": 5
}
