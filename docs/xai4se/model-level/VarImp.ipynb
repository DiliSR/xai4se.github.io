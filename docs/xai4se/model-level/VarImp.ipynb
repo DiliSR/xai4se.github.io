{
 "cells": [
  {
   "cell_type": "markdown",
   "metadata": {},
   "source": [
    "# Variable Importance analysis\n",
    "\n",
    "Variable importance (a.k.a. VarImp) is an approach to examine the\n",
    "importance of software metrics for random forest models. There are two\n",
    "commonly-used calculation approaches of variable importance scores,\n",
    "namely, Gini Importance and Permutation Importance, which we describe\n",
    "below.\n",
    "\n",
    "**Gini Importance (a.k.a. MeanDecreaseGini)** determines the importance\n",
    "of metrics from the decrease of the Gini Index, i.e., the distinguishing\n",
    "power for the defective class due to a given\n",
    "metric {cite}`breiman2001random`. We start from a random\n",
    "forest model that is constructed using the original dataset with\n",
    "multiple trees, where each tree is constructed using a bootstrap sample.\n",
    "For each tree, a parent node (i.e., $G_{\\mathrm{Parent}}$) is split by\n",
    "the best cut-point into two descendent nodes (i.e.,\n",
    "$G_{\\mathrm{Desc.1}}$ and $G_{\\mathrm{Desc.2}}$). The calculation of the\n",
    "Gini Importance of each metric is made up of 2 steps:\n",
    "\n",
    "*(Step 1) Compute the DecreaseGini for all of the trees in the random\n",
    "forest model.* The DecreaseGini is the improvement of the ability to\n",
    "distinguish between two classes across parent and its descendent nodes.\n",
    "We compute the DecreaseGini using the following equation:\n",
    "\n",
    "$$\\mathrm{DecreaseGini}(m_i) = I_{m_i} = G_{\\mathrm{Parent}} - G_{\\mathrm{Desc.1}} - G_{\\mathrm{Desc.2}}$$\n",
    "\n",
    "where $G$ is the Gini Index, i.e., the distinguishing power of defective\n",
    "class for a given metric. The Gini Index is computed using the following\n",
    "equation: $G = \\sum_{i=1}^{N_{\\mathrm{Class}}}p_i(1-p_i)$, where\n",
    "$N_{\\mathrm{Class}}$ is the number of classes and $p_i$ is the\n",
    "proportion of Class$_i$.\n",
    "\n",
    "*(Step 2) Compute the MeanDecreaseGini measure.* Finally, the importance\n",
    "of each metric (i.e., MeanDecreaseGini) is the average of the\n",
    "DecreaseGini values from all of the splits of that metric across all the\n",
    "trees in the random forest model.\n",
    "\n",
    "In this paper, we consider both the scaled and non-scaled importance\n",
    "scores for the Gini Importance.\n",
    "\n",
    "**Permutation Importance (a.k.a. MeanDecreaseAccuracy)** determines the\n",
    "importance of metrics from the decrease of the accuracy (i.e., the\n",
    "misclassification rate) when the values of a given metric are randomly\n",
    "permuted {cite}`breiman2001random`. Similar to\n",
    "MeanDecreaseGini, we start from a random forest model that is\n",
    "constructed using an original dataset with multiple trees, where each\n",
    "tree is constructed using an out-of-sample bootstrap. The calculation of\n",
    "the Permutation Importance is made up of 2 steps:\n",
    "\n",
    "*(Step 1) Compute the DecreaseAccuracy of each tree in the random forest\n",
    "model.* The DecreaseAccuracy is the decrease of the accuracy (i.e.,\n",
    "misclassification rate) between a model that is tested using the\n",
    "original out-of-bag testing samples and a model that is tested using\n",
    "permuted out-of-bag testing samples, i.e., a dataset with one metric\n",
    "permuted, while all other metrics are unchanged).\n",
    "\n",
    "*(Step 2) Compute the MeanDecreaseAccuracy measure.* Finally, the\n",
    "importance of each metric (i.e., MeanDecreaseAccuracy) is the average of\n",
    "the DecreaseAccuracy values across all of the trees in the random forest\n",
    "model."
   ]
  },
  {
   "cell_type": "markdown",
   "metadata": {},
   "source": [
    "## Tutorial"
   ]
  },
  {
   "cell_type": "code",
   "execution_count": 1,
   "metadata": {
    "tags": [
     "hide-cell"
    ]
   },
   "outputs": [
    {
     "data": {
      "text/plain": [
       "RandomForestClassifier(n_jobs=10, random_state=1234)"
      ]
     },
     "execution_count": 1,
     "metadata": {},
     "output_type": "execute_result"
    }
   ],
   "source": [
    "## Load Data and preparing datasets\n",
    "\n",
    "# Import for Load Data\n",
    "from os import listdir\n",
    "from os.path import isfile, join\n",
    "import pandas as pd\n",
    "# Import for Split Data into Training and Testing Samples\n",
    "from sklearn.model_selection import train_test_split\n",
    "\n",
    "# Import for Construct a black-box model (Regression and Random Forests)\n",
    "import statsmodels.api as sm\n",
    "from statsmodels.formula.api import ols\n",
    "from sklearn.ensemble import RandomForestClassifier\n",
    "from sklearn.linear_model import LogisticRegression\n",
    "\n",
    "train_dataset = pd.read_csv((\"../../../datasets/lucene-2.9.0.csv\"), index_col = 'File')\n",
    "test_dataset = pd.read_csv((\"../../../datasets/lucene-3.0.0.csv\"), index_col = 'File')\n",
    "\n",
    "outcome = 'RealBug'\n",
    "features = ['OWN_COMMIT', 'Added_lines', 'CountClassCoupled', 'AvgLine', 'RatioCommentToCode']\n",
    "\n",
    "# process outcome to 0 and 1\n",
    "train_dataset[outcome] = pd.Categorical(train_dataset[outcome])\n",
    "train_dataset[outcome] = train_dataset[outcome].cat.codes\n",
    "\n",
    "test_dataset[outcome] = pd.Categorical(test_dataset[outcome])\n",
    "test_dataset[outcome] = test_dataset[outcome].cat.codes\n",
    "\n",
    "X_train = train_dataset.loc[:, features]\n",
    "X_test = test_dataset.loc[:, features]\n",
    "\n",
    "y_train = train_dataset.loc[:, outcome]\n",
    "y_test = test_dataset.loc[:, outcome]\n",
    "\n",
    "\n",
    "# commits - # of commits that modify the file of interest\n",
    "# Added lines - # of added lines of code\n",
    "# Count class coupled - # of classes that interact or couple with the class of interest\n",
    "# LOC - # of lines of code\n",
    "# RatioCommentToCode - The ratio of lines of comments to lines of code\n",
    "features = ['nCommit', 'AddedLOC', 'nCoupledClass', 'LOC', 'CommentToCodeRatio']\n",
    "\n",
    "X_train.columns = features\n",
    "X_test.columns = features\n",
    "training_data = pd.concat([X_train, y_train], axis=1)\n",
    "testing_data = pd.concat([X_test, y_test], axis=1)\n",
    "\n",
    "## Construct a black-box model (Random Forests)\n",
    "\n",
    "# random forests\n",
    "rf_model = RandomForestClassifier(random_state=1234, n_jobs = 10)\n",
    "rf_model.fit(X_train, y_train)  "
   ]
  },
  {
   "cell_type": "code",
   "execution_count": 2,
   "metadata": {},
   "outputs": [
    {
     "data": {
      "text/plain": [
       "<AxesSubplot:ylabel='Features'>"
      ]
     },
     "execution_count": 2,
     "metadata": {},
     "output_type": "execute_result"
    },
    {
     "data": {
      "image/png": "[encoded data removed]",
      "text/plain": [
       "<Figure size 432x288 with 1 Axes>"
      ]
     },
     "metadata": {
      "needs_background": "light"
     },
     "output_type": "display_data"
    }
   ],
   "source": [
    "# get VarImp score from the rf_model\n",
    "feature_importances = pd.DataFrame({'Features': features,\n",
    "             'ImportanceScore': rf_model.feature_importances_})\n",
    "feature_importances.sort_values(by = 'ImportanceScore', ascending = False, inplace = True)\n",
    "\n",
    "# visualize VarImp\n",
    "feature_importances.plot(kind = 'barh', y = 'ImportanceScore', x = 'Features') # remove the residual"
   ]
  }
 ],
 "metadata": {
  "celltoolbar": "Tags",
  "kernelspec": {
   "display_name": "xaitools",
   "language": "python",
   "name": "xaitools"
  },
  "language_info": {
   "codemirror_mode": {
    "name": "ipython",
    "version": 3
   },
   "file_extension": ".py",
   "mimetype": "text/x-python",
   "name": "python",
   "nbconvert_exporter": "python",
   "pygments_lexer": "ipython3",
   "version": "3.6.13"
  }
 },
 "nbformat": 4,
 "nbformat_minor": 4
}
