{
 "cells": [
  {
   "cell_type": "markdown",
   "metadata": {},
   "source": [
    "# Welcome to \"The Actionable Software Analytics Cookbook\"\n",
    "\n",
    "\n",
    "### About this book\n",
    "\n",
    "Software analytics aims discover actionable insights from software data. Sadly, recent work found that only few studies making software analytics explainable and actionable. Are we moving to the right direction? How can we improve the SE community? This book will provide an interactive tutorial of how to make software analytics more explainable and actionable. \n",
    "\n",
    "### What you will learn\n",
    "\n",
    "In this book, we:\n",
    "\n",
    "* Present a concise yet essential introduction to the most important aspects of software analytics.\n",
    "* Introduce hands-on approaches to implementing software analytics.\n",
    "* Demonstrate tools and techniques to make software analytics explainable and actionable.\n",
    "* Provide examples case studies.\n",
    "\n",
    "### Who this book is for\n",
    "\n",
    "Some of the potential readers of this book include:\n",
    "\n",
    "1. Software practitioners who already use Python for as data science, machine learning, research, and analysis and wish to apply their data science knowledge to software data.\n",
    "\n",
    "2. Software analysts and data scientists who want to understand and avoid pitfalls when desigining software analytics.\n",
    "\n",
    "3. Project managers who involve high-stakes decision-making and need software analytics to make smarter data-driven busineess decisions.\n",
    "\n",
    "**Caution:** This book is not an introduction to data science, machine learning, or artifcial intelligence concepts. You must have some foundational knowledge and/or experience with machine learning libraries such as scikit-learn to make the most out of this book.\n",
    "\n",
    "### About the authors\n",
    "\n",
    "**Dr. Chakkrit (Kla) Tantithamthavorn** is a Senior Lecturer in Software Engineering and a 2020 ARC DECRA Fellow in the Faculty of Information Technology, Monash University, Australia. He is leading a new research area of Explaianble AI for Software Engineering. His current fellowship is focusing on the development of Practical and Explainable Analytics to Prevent Future Software Defects. His work has been published at several top-tier software engineering venues, such as TSE, ICSE, EMSE, MSR, IST. Contact him at chakkrit@monash.edu.\n",
    "\n",
    "**Mr. Jirayus Jiarpakdee** is a Ph.D. candidate at Monash University, Australia. His research interests include empirical software engineering and mining software repositories (MSR). The goal of his Ph.D. is to apply the knowledge of statistical modelling, experimental design, and software engineering to improve the explainability of defect prediction models. Contact him at jirayus.jiarpakdee@monash.edu.\n",
    "\n",
    "\n",
    "### Acknowledgement\n",
    "\n",
    "C. Tantithamthavorn was partially supported by the Australian Research Council's Discovery Early Career Researcher Award (ARC DECRA) funding scheme (DE200100941). \n",
    "\n",
    "### Cite this book:\n",
    "\n",
    "```{note}\n",
    "TODO\n",
    "```"
   ]
  },
  {
   "cell_type": "code",
   "execution_count": null,
   "metadata": {},
   "outputs": [],
   "source": []
  }
 ],
 "metadata": {
  "kernelspec": {
   "display_name": "xaitools",
   "language": "python",
   "name": "xaitools"
  },
  "language_info": {
   "codemirror_mode": {
    "name": "ipython",
    "version": 3
   },
   "file_extension": ".py",
   "mimetype": "text/x-python",
   "name": "python",
   "nbconvert_exporter": "python",
   "pygments_lexer": "ipython3",
   "version": "3.6.13"
  }
 },
 "nbformat": 4,
 "nbformat_minor": 4
}
