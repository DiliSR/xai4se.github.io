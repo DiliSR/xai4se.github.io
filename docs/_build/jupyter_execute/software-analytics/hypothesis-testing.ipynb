{
 "cells": [
  {
   "cell_type": "markdown",
   "id": "d656741d",
   "metadata": {},
   "source": [
    "# Avoid feature selection if the goal is to derive actionable insights\n",
    "\n",
    "## TODO - Content"
   ]
  },
  {
   "cell_type": "code",
   "execution_count": null,
   "id": "905b6410",
   "metadata": {},
   "outputs": [],
   "source": []
  }
 ],
 "metadata": {
  "kernelspec": {
   "display_name": "xaitools",
   "language": "python",
   "name": "xaitools"
  },
  "language_info": {
   "codemirror_mode": {
    "name": "ipython",
    "version": 3
   },
   "file_extension": ".py",
   "mimetype": "text/x-python",
   "name": "python",
   "nbconvert_exporter": "python",
   "pygments_lexer": "ipython3",
   "version": "3.6.13"
  }
 },
 "nbformat": 4,
 "nbformat_minor": 5
}