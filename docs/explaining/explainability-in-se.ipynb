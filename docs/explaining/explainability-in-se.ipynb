{
 "cells": [
  {
   "cell_type": "markdown",
   "metadata": {},
   "source": [
    "# Explainability in Software Engineering\n",
    "\n",
    "\n",
    "Software engineering is by nature a collaborative social practice.\n",
    "Collaboration among different stakeholders (e.g., users, developers, and\n",
    "managers) is essential in modern software engineering. As a part of the\n",
    "collaboration, individuals are often expected to explain decisions made\n",
    "throughout software development processes to develop appropriate trust\n",
    "and enable effective communication. Since tool support in software\n",
    "development processes is an integral part of this collaborative process,\n",
    "similar expectations are also applied. Such tools should not only\n",
    "provide insights or generate predictions for recommendation, but also be\n",
    "able to explain such insights and recommendations.\n",
    "\n",
    "Recent automated and advanced software development tools heavily rely on\n",
    "Artificial Intelligence and Machine Learning (AI/ML) capabilities to\n",
    "predict software defects, estimate development effort, and recommend API\n",
    "choices. However, such AI/ML algorithms are often \"black-box\", which\n",
    "makes it hard for practitioners to understand how the models arrive at a\n",
    "decision. A lack of explainability of the black-box algorithms leads to\n",
    "a lack of trust in the predictions or recommendations produced by such\n",
    "algorithms.\n"
   ]
  }
 ],
 "metadata": {
  "kernelspec": {
   "display_name": "xaitools",
   "language": "python",
   "name": "xaitools"
  },
  "language_info": {
   "codemirror_mode": {
    "name": "ipython",
    "version": 3
   },
   "file_extension": ".py",
   "mimetype": "text/x-python",
   "name": "python",
   "nbconvert_exporter": "python",
   "pygments_lexer": "ipython3",
   "version": "3.6.13"
  }
 },
 "nbformat": 4,
 "nbformat_minor": 4
}
