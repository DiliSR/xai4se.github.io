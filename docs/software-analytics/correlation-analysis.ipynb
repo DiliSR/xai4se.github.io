{
 "cells": [
  {
   "cell_type": "markdown",
   "metadata": {},
   "source": [
    "# Correlation Analysis"
   ]
  },
  {
   "cell_type": "code",
   "execution_count": 2,
   "metadata": {
    "tags": [
     "remove-cell"
    ]
   },
   "outputs": [
    {
     "data": {
      "text/plain": [
       "RandomForestClassifier(n_jobs=10, random_state=1234)"
      ]
     },
     "execution_count": 2,
     "metadata": {},
     "output_type": "execute_result"
    }
   ],
   "source": [
    "## Load Data and preparing datasets\n",
    "\n",
    "# Import for Load Data\n",
    "from os import listdir\n",
    "from os.path import isfile, join\n",
    "import pandas as pd\n",
    "# Import for Split Data into Training and Testing Samples\n",
    "from sklearn.model_selection import train_test_split\n",
    "\n",
    "# Import for Construct a black-box model (Regression and Random Forests)\n",
    "import statsmodels.api as sm\n",
    "from statsmodels.formula.api import ols\n",
    "from sklearn.ensemble import RandomForestClassifier\n",
    "from sklearn.linear_model import LogisticRegression\n",
    "\n",
    "train_dataset = pd.read_csv((\"../../datasets/lucene-2.9.0.csv\"), index_col = 'File')\n",
    "test_dataset = pd.read_csv((\"../../datasets/lucene-3.0.0.csv\"), index_col = 'File')\n",
    "\n",
    "outcome = 'RealBug'\n",
    "features = ['OWN_COMMIT', 'Added_lines', 'CountClassCoupled', 'AvgLine', 'RatioCommentToCode']\n",
    "\n",
    "# process outcome to 0 and 1\n",
    "train_dataset[outcome] = pd.Categorical(train_dataset[outcome])\n",
    "train_dataset[outcome] = train_dataset[outcome].cat.codes\n",
    "\n",
    "test_dataset[outcome] = pd.Categorical(test_dataset[outcome])\n",
    "test_dataset[outcome] = test_dataset[outcome].cat.codes\n",
    "\n",
    "X_train = train_dataset.loc[:, features]\n",
    "X_test = test_dataset.loc[:, features]\n",
    "\n",
    "y_train = train_dataset.loc[:, outcome]\n",
    "y_test = test_dataset.loc[:, outcome]\n",
    "\n",
    "\n",
    "# commits - # of commits that modify the file of interest\n",
    "# Added lines - # of added lines of code\n",
    "# Count class coupled - # of classes that interact or couple with the class of interest\n",
    "# LOC - # of lines of code\n",
    "# RatioCommentToCode - The ratio of lines of comments to lines of code\n",
    "features = ['nCommit', 'AddedLOC', 'nCoupledClass', 'LOC', 'CommentToCodeRatio']\n",
    "\n",
    "X_train.columns = features\n",
    "X_test.columns = features\n",
    "training_data = pd.concat([X_train, y_train], axis=1)\n",
    "testing_data = pd.concat([X_test, y_test], axis=1)\n",
    "\n",
    "## Construct a black-box model (Random Forests)\n",
    "\n",
    "# random forests\n",
    "rf_model = RandomForestClassifier(random_state=1234, n_jobs = 10)\n",
    "rf_model.fit(X_train, y_train)  "
   ]
  },
  {
   "cell_type": "markdown",
   "metadata": {},
   "source": [
    "### Collinearity (Pairwise Correlation)\n",
    "\n",
    "Collinearity is a phenomenon in which one metric can be linearly predicted by another metric. \n",
    "There are several correlation tests that can detect collinearity between metrics. For example, Pearson correlation test, Spearman correlation test, and Kendall Tau correlation test.\n",
    "Below, we provide a tutorial for using and visualising Spearman correlation test."
   ]
  },
  {
   "cell_type": "code",
   "execution_count": 7,
   "metadata": {},
   "outputs": [
    {
     "data": {
      "image/png": "[encoded data removed]",
      "text/plain": [
       "<Figure size 720x720 with 2 Axes>"
      ]
     },
     "metadata": {
      "needs_background": "light"
     },
     "output_type": "display_data"
    }
   ],
   "source": [
    "# Import for Correlation tests\n",
    "import pandas as pd\n",
    "import numpy as np\n",
    "import seaborn as sns\n",
    "import matplotlib.pyplot as plt\n",
    "\n",
    "# There are 3 options for the parameter setting of method as follows:\n",
    "# pearson : standard correlation coefficient\n",
    "# kendall : Kendall Tau correlation coefficient\n",
    "# spearman : Spearman rank correlation\n",
    "corrmat = X_train.corr(method='spearman')\n",
    "top_corr_features = corrmat.index\n",
    "plt.figure(figsize=(10,10))\n",
    "#plot heat map\n",
    "g=sns.heatmap(X_train[top_corr_features].corr(),annot=True,cmap=\"RdYlGn\")"
   ]
  },
  {
   "cell_type": "markdown",
   "metadata": {},
   "source": [
    "### Multicollinearity\n",
    "\n",
    "Multicollinearity is a phenomenon in which one metric can be linearly predicted by a combination of two or more metrics. \n",
    "Multicollinearity can be detected using Variance Inflation Factor (VIF) analysis {cite}`fox1992generalized`.\n",
    "The idea behind variance inflation factor analysis is to construct an ordinary least square regression to predict a metric by using the other metrics in the dataset.\n",
    "Having a model that is well fit indicates that the metric can be predicted by other metrics, linearly highly-correlated with other metrics.\n",
    "There are 3 steps in variance inflation factor analysis.\n",
    "\n",
    "*(Step 1) Construct a regression model for each metric.*\n",
    "For each metric, we construct a model using the other metrics to predict that particular metric.\n",
    "\n",
    "*(Step 2) Compute a VIF score for each metric.*\n",
    "The VIF score for each metric is computed using the following formula: $\\mathrm{VIF} = \\frac{1}{1 - \\mathrm{R}^2}$, where $\\mathrm{R}^2$ is the explanatory power of the regression model from Step 1.\n",
    "A high VIF score of a metric indicates that a given metric can be accurately predicted by the other metrics.\n",
    "Thus, that given metric is considered redundant and should be removed from our model.\n",
    "\n",
    "*(Step 3) Remove metrics with a VIF score that is higher than a given threshold.*\n",
    "We remove metrics with a VIF score that is higher than a given threshold.\n",
    "We use a VIF threshold of 5 to determine the magnitude of multi-collinearity, as it is suggested by Fox {cite}`fox2015applied`.\n",
    "Then, we repeat the above three steps until the VIF scores of all remaining metrics are lower than the pre-defined threshold."
   ]
  },
  {
   "cell_type": "code",
   "execution_count": 59,
   "metadata": {},
   "outputs": [
    {
     "data": {
      "text/html": [
       "<div>\n",
       "<style scoped>\n",
       "    .dataframe tbody tr th:only-of-type {\n",
       "        vertical-align: middle;\n",
       "    }\n",
       "\n",
       "    .dataframe tbody tr th {\n",
       "        vertical-align: top;\n",
       "    }\n",
       "\n",
       "    .dataframe thead th {\n",
       "        text-align: right;\n",
       "    }\n",
       "</style>\n",
       "<table border=\"1\" class=\"dataframe\">\n",
       "  <thead>\n",
       "    <tr style=\"text-align: right;\">\n",
       "      <th></th>\n",
       "      <th>Feature</th>\n",
       "      <th>VIFscore</th>\n",
       "    </tr>\n",
       "  </thead>\n",
       "  <tbody>\n",
       "    <tr>\n",
       "      <th>3</th>\n",
       "      <td>nCoupledClass</td>\n",
       "      <td>1.222543</td>\n",
       "    </tr>\n",
       "    <tr>\n",
       "      <th>1</th>\n",
       "      <td>nCommit</td>\n",
       "      <td>1.040746</td>\n",
       "    </tr>\n",
       "    <tr>\n",
       "      <th>4</th>\n",
       "      <td>LOC</td>\n",
       "      <td>113905.910899</td>\n",
       "    </tr>\n",
       "    <tr>\n",
       "      <th>5</th>\n",
       "      <td>CommentToCodeRatio</td>\n",
       "      <td>1.123840</td>\n",
       "    </tr>\n",
       "    <tr>\n",
       "      <th>7</th>\n",
       "      <td>B</td>\n",
       "      <td>82271.933165</td>\n",
       "    </tr>\n",
       "    <tr>\n",
       "      <th>2</th>\n",
       "      <td>AddedLOC</td>\n",
       "      <td>1.126917</td>\n",
       "    </tr>\n",
       "    <tr>\n",
       "      <th>6</th>\n",
       "      <td>A</td>\n",
       "      <td>34025.146679</td>\n",
       "    </tr>\n",
       "  </tbody>\n",
       "</table>\n",
       "</div>"
      ],
      "text/plain": [
       "              Feature       VIFscore\n",
       "3       nCoupledClass       1.222543\n",
       "1             nCommit       1.040746\n",
       "4                 LOC  113905.910899\n",
       "5  CommentToCodeRatio       1.123840\n",
       "7                   B   82271.933165\n",
       "2            AddedLOC       1.126917\n",
       "6                   A   34025.146679"
      ]
     },
     "execution_count": 59,
     "metadata": {},
     "output_type": "execute_result"
    }
   ],
   "source": [
    "# Import for VIF\n",
    "from statsmodels.stats.outliers_influence import variance_inflation_factor\n",
    "from statsmodels.tools.tools import add_constant\n",
    "import random\n",
    "\n",
    "# Prepare a dataframe for VIF\n",
    "X_VIF = add_constant(X_train)\n",
    "\n",
    "# Simulate a multicollinearity situation of LOC, A, and B\n",
    "X_VIF['A'] = [2 * x_i + random.random() for x_i in X_VIF['LOC']]\n",
    "X_VIF['B'] = [3 * x_i + random.random() for x_i in X_VIF['LOC']]\n",
    "\n",
    "# Calculate VIF scores\n",
    "vif_scores = pd.DataFrame([variance_inflation_factor(X_VIF.values, i) \n",
    "               for i in range(X_VIF.shape[1])], \n",
    "              index=X_VIF.columns)\n",
    "# Prepare a final dataframe of VIF scores\n",
    "vif_scores.reset_index(inplace = True)\n",
    "vif_scores.columns = ['Feature', 'VIFscore']\n",
    "vif_scores = vif_scores.loc[vif_scores['Feature'] != 'const', :]\n",
    "vif_scores.sort_values(by = ['Feature'], ascending = False)"
   ]
  },
  {
   "cell_type": "markdown",
   "metadata": {},
   "source": [
    "In this example, we observe that LOC, A, and B are problematic with the VIF scores of above 5.\n",
    "To mitigate multicollinearity, we need to exclude one metric with the highest VIF score, i.e., LOC.\n",
    "We iteratively repeat the process as described above."
   ]
  },
  {
   "cell_type": "code",
   "execution_count": 117,
   "metadata": {
    "tags": [
     "hide-input"
    ]
   },
   "outputs": [
    {
     "name": "stdout",
     "output_type": "stream",
     "text": [
      "Stepwise VIF START\n",
      "Step 1 - exclude LOC\n",
      "Step 2 - exclude A\n",
      "The following features are selected according to Stepwise VIF with the VIF threshold value of 5:\n",
      "              Feature  VIFscore\n",
      "4       nCoupledClass  1.220623\n",
      "0            AddedLOC  1.122381\n",
      "2  CommentToCodeRatio  1.120922\n",
      "3             nCommit  1.039821\n",
      "5                   B  1.017022\n"
     ]
    }
   ],
   "source": [
    "# Import for VIF\n",
    "from statsmodels.stats.outliers_influence import variance_inflation_factor\n",
    "from statsmodels.tools.tools import add_constant\n",
    "import random\n",
    "\n",
    "# Prepare a dataframe for VIF\n",
    "X_VIF = add_constant(X_train)\n",
    "\n",
    "# Simulate a multicollinearity situation of LOC, A, and B\n",
    "X_VIF['A'] = [2 * x_i + random.random() for x_i in X_VIF['LOC']]\n",
    "X_VIF['B'] = [3 * x_i + random.random() for x_i in X_VIF['LOC']]\n",
    "\n",
    "selected_features = X_VIF.columns\n",
    "\n",
    "# Stepwise-VIF\n",
    "print('Stepwise VIF START')\n",
    "count = 1\n",
    "while True:\n",
    "    # Calculate VIF scores\n",
    "    vif_scores = pd.DataFrame([variance_inflation_factor(X_VIF.values, i) \n",
    "                   for i in range(X_VIF.shape[1])], \n",
    "                  index=X_VIF.columns)\n",
    "    # Prepare a final dataframe of VIF scores\n",
    "    vif_scores.reset_index(inplace = True)\n",
    "    vif_scores.columns = ['Feature', 'VIFscore']\n",
    "    vif_scores = vif_scores.loc[vif_scores['Feature'] != 'const', :]\n",
    "    vif_scores.sort_values(by = ['VIFscore'], ascending = False, inplace = True)\n",
    "    \n",
    "    # Find features that have their VIF scores of above 5.0\n",
    "    filtered_vif_scores = vif_scores[vif_scores['VIFscore'] >= 5.0]\n",
    "    \n",
    "    # Terminate when there is no features with the VIF scores of above 5.0\n",
    "    if len(filtered_vif_scores) == 0:\n",
    "        break\n",
    "        \n",
    "    # exclude the metric with the highest VIF score\n",
    "    metric_to_exclude = list(filtered_vif_scores['Feature'].head(1))[0]\n",
    "    \n",
    "    \n",
    "    print('Step', count,'- exclude', str(metric_to_exclude))\n",
    "    count = count + 1\n",
    "        \n",
    "    selected_features = list(set(selected_features) - set([metric_to_exclude]))\n",
    "    \n",
    "    X_VIF = X_VIF.loc[:, selected_features]\n",
    "print('The following features are selected according to Stepwise VIF with the VIF threshold value of 5:')\n",
    "print(vif_scores)"
   ]
  },
  {
   "cell_type": "markdown",
   "metadata": {},
   "source": [
    "### AutoSpearman: An automated feature selection approach that address collinearity and multicollinearity\n",
    "\n",
    "\n",
    "Jiarpakdee *et al.* {cite}`jiarpakdee2018icsme`{cite}`jiarpakdee2020impactfss` [@jiarpakdee2018autospearman] introduce , an\n",
    "automated metric selection approach based on the Spearman rank\n",
    "correlation test and the VIF analysis for statistical inference. \n",
    "The high-level concept of can be summarised into 2 parts:\n",
    "\n",
    "*(Part 1) Automatically select non-correlated metrics based on a\n",
    "Spearman rank correlation test.* We first measure the correlation of all\n",
    "metrics using the Spearman rank correlation test ($\\rho$) (*cf.* Line\n",
    "2). We use the interpretation of correlation coefficients ($|\\rho|$) as\n",
    "provided by Kraemer {cite}`kraemer2003measures`---i.e., a Spearman\n",
    "correlation coefficient of above or equal to 0.7 is considered a strong\n",
    "correlation. Thus, we only consider the pairs that have an absolute\n",
    "Spearman correlation coefficient of above or equal to the threshold\n",
    "value ($sp.t$) of 0.7.\n",
    "\n",
    "To automatically select non-correlated metrics based on the Spearman\n",
    "rank correlation test, we start from the pair that has the highest\n",
    "Spearman correlation coefficient. Since the two\n",
    "correlated metrics under examination can be linearly predicted with each\n",
    "other, one of these two metrics must be removed. Thus, we select the\n",
    "metric that has the lowest average values of the absolute Spearman\n",
    "correlation coefficients of the other metrics that are not included in\n",
    "the pair. That means the removed metric is another metric\n",
    "in the pair that is not selected. Since the removed\n",
    "metric may be correlated with the other metrics, we remove any pairs of\n",
    "metrics that are correlated with the removed metric.\n",
    "Finally, we exclude the removed metric from the set of the remaining\n",
    "metrics ($M'$). We repeat this process until all pairs of\n",
    "metrics have their Spearman correlation coefficient below a threshold\n",
    "value of 0.7.\n",
    "\n",
    "*(Part 2) Automatically select non-correlated metrics based on a\n",
    "Variance Inflation Factor analysis.* We first measure the magnitude of\n",
    "multicollinearity of the remaining metrics ($M'$) from `Part 1` using\n",
    "the Variance Inflation Factor analysis (*cf.* Line 12). We use a VIF\n",
    "threshold value ($vif.t$) of 5 to identify the presence of\n",
    "multicollinearity, as suggested by Fox {cite}`fox2015applied`.\n",
    "\n",
    "To automatically remove correlated metrics from the Variance Inflation\n",
    "Factor analysis, we identify the removed metric as the metric that has\n",
    "the highest VIF score. We then exclude the removed\n",
    "metric from the set of the remaining metrics ($M'$). We\n",
    "apply the VIF analysis on the remaining metrics until none of the\n",
    "remaining metrics have their VIF scores above or equal to the threshold\n",
    "value. Finally,  produces a subset of non-correlated\n",
    "metrics based on the Spearman rank correlation test and the VIF analysis\n",
    "($M'$).\n",
    "\n",
    "Similar to filter-based feature selection techniques, *Part 1*\n",
    "of  measures the correlation of all metrics using the Spearman rank\n",
    "correlation test regardless of model construction. Similar to\n",
    "wrapper-based feature selection techniques, *Part 2* of  constructs\n",
    "regression models to measure the magnitude of multicollinearity of\n",
    "metrics. Thus, we consider  as a hybrid feature selection technique\n",
    "(both filter-based and wrapper-based).\n",
    "\n",
    "\n",
    "TODO - include Tutorials for AutoSpearman"
   ]
  },
  {
   "cell_type": "code",
   "execution_count": null,
   "metadata": {},
   "outputs": [],
   "source": []
  }
 ],
 "metadata": {
  "celltoolbar": "Tags",
  "kernelspec": {
   "display_name": "xaitools",
   "language": "python",
   "name": "xaitools"
  },
  "language_info": {
   "codemirror_mode": {
    "name": "ipython",
    "version": 3
   },
   "file_extension": ".py",
   "mimetype": "text/x-python",
   "name": "python",
   "nbconvert_exporter": "python",
   "pygments_lexer": "ipython3",
   "version": "3.6.13"
  }
 },
 "nbformat": 4,
 "nbformat_minor": 5
}
