{
 "cells": [
  {
   "cell_type": "markdown",
   "metadata": {},
   "source": [
    "# Always handle collinearity and multicollinearity\n"
   ]
  },
  {
   "cell_type": "code",
   "execution_count": 12,
   "metadata": {
    "tags": [
     "remove-cell"
    ]
   },
   "outputs": [
    {
     "data": {
      "text/plain": [
       "RandomForestClassifier(n_jobs=10, random_state=1234)"
      ]
     },
     "execution_count": 12,
     "metadata": {},
     "output_type": "execute_result"
    }
   ],
   "source": [
    "## Load Data and preparing datasets\n",
    "\n",
    "# Import for Load Data\n",
    "from os import listdir\n",
    "from os.path import isfile, join\n",
    "import pandas as pd\n",
    "# Import for Split Data into Training and Testing Samples\n",
    "from sklearn.model_selection import train_test_split\n",
    "\n",
    "# Import for Construct a black-box model (Regression and Random Forests)\n",
    "import statsmodels.api as sm\n",
    "from statsmodels.formula.api import ols\n",
    "from sklearn.ensemble import RandomForestClassifier\n",
    "from sklearn.linear_model import LogisticRegression\n",
    "\n",
    "train_dataset = pd.read_csv((\"../../datasets/lucene-2.9.0.csv\"), index_col = 'File')\n",
    "test_dataset = pd.read_csv((\"../../datasets/lucene-3.0.0.csv\"), index_col = 'File')\n",
    "\n",
    "outcome = 'RealBug'\n",
    "features = ['OWN_COMMIT', 'Added_lines', 'CountClassCoupled', 'AvgLine', 'RatioCommentToCode']\n",
    "\n",
    "# process outcome to 0 and 1\n",
    "train_dataset[outcome] = pd.Categorical(train_dataset[outcome])\n",
    "train_dataset[outcome] = train_dataset[outcome].cat.codes\n",
    "\n",
    "test_dataset[outcome] = pd.Categorical(test_dataset[outcome])\n",
    "test_dataset[outcome] = test_dataset[outcome].cat.codes\n",
    "\n",
    "X_train = train_dataset.loc[:, features]\n",
    "X_test = test_dataset.loc[:, features]\n",
    "\n",
    "y_train = train_dataset.loc[:, outcome]\n",
    "y_test = test_dataset.loc[:, outcome]\n",
    "\n",
    "\n",
    "# commits - # of commits that modify the file of interest\n",
    "# Added lines - # of added lines of code\n",
    "# Count class coupled - # of classes that interact or couple with the class of interest\n",
    "# LOC - # of lines of code\n",
    "# RatioCommentToCode - The ratio of lines of comments to lines of code\n",
    "features = ['nCommit', 'AddedLOC', 'nCoupledClass', 'LOC', 'CommentToCodeRatio']\n",
    "\n",
    "X_train.columns = features\n",
    "X_test.columns = features\n",
    "training_data = pd.concat([X_train, y_train], axis=1)\n",
    "testing_data = pd.concat([X_test, y_test], axis=1)\n",
    "\n",
    "## Construct a black-box model (Random Forests)\n",
    "\n",
    "# random forests\n",
    "rf_model = RandomForestClassifier(random_state=1234, n_jobs = 10)\n",
    "rf_model.fit(X_train, y_train)  "
   ]
  },
  {
   "cell_type": "markdown",
   "metadata": {},
   "source": [
    "## Collinearity (Pairwise Correlation)\n",
    "\n",
    "Collinearity is a phenomenon in which one metric can be linearly predicted by another metric. \n",
    "There are several correlation tests that can detect collinearity between metrics. For example, Pearson correlation test, Spearman correlation test, and Kendall Tau correlation test.\n",
    "Below, we provide a tutorial for using and visualising Spearman correlation test."
   ]
  },
  {
   "cell_type": "code",
   "execution_count": 17,
   "metadata": {},
   "outputs": [
    {
     "data": {
      "image/png": "[encoded data removed]",
      "text/plain": [
       "<Figure size 720x576 with 2 Axes>"
      ]
     },
     "metadata": {
      "needs_background": "light"
     },
     "output_type": "display_data"
    }
   ],
   "source": [
    "# Import for Correlation tests\n",
    "import pandas as pd\n",
    "import numpy as np\n",
    "import seaborn as sns\n",
    "import matplotlib.pyplot as plt\n",
    "import random\n",
    "\n",
    "# Prepare a dataframe for collinearity simulation\n",
    "X_Corr = X_train.copy()\n",
    "\n",
    "# Simulate a collinearity situation of AddedLOC and A\n",
    "X_Corr['A'] = [2 * x_i + random.random() for x_i in X_Corr['AddedLOC']]\n",
    "\n",
    "\n",
    "# There are 3 options for the parameter setting of method as follows:\n",
    "# pearson : standard correlation coefficient\n",
    "# kendall : Kendall Tau correlation coefficient\n",
    "# spearman : Spearman rank correlation\n",
    "corrmat = X_Corr.corr(method='spearman')\n",
    "top_corr_features = corrmat.index\n",
    "\n",
    "\n",
    "# Visualise a lower-triangle correlation heatmap\n",
    "mask_df = np.triu(np.ones(corrmat.shape)).astype(np.bool)\n",
    "plt.figure(figsize=(10,8))\n",
    "#plot heat map\n",
    "g=sns.heatmap(X_Corr[top_corr_features].corr(), \n",
    "              mask = mask_df, \n",
    "              vmin = -1,\n",
    "              vmax = 1,\n",
    "              annot=True,\n",
    "              cmap=\"RdBu\")"
   ]
  },
  {
   "cell_type": "markdown",
   "metadata": {},
   "source": [
    "## Multicollinearity\n",
    "\n",
    "Multicollinearity is a phenomenon in which one metric can be linearly predicted by a combination of two or more metrics. \n",
    "Multicollinearity can be detected using Variance Inflation Factor (VIF) analysis {cite}`fox1992generalized`.\n",
    "The idea behind variance inflation factor analysis is to construct an ordinary least square regression to predict a metric by using the other metrics in the dataset.\n",
    "Having a model that is well fit indicates that the metric can be predicted by other metrics, linearly highly-correlated with other metrics.\n",
    "There are 3 steps in variance inflation factor analysis.\n",
    "\n",
    "*(Step 1) Construct a regression model for each metric.*\n",
    "For each metric, we construct a model using the other metrics to predict that particular metric.\n",
    "\n",
    "*(Step 2) Compute a VIF score for each metric.*\n",
    "The VIF score for each metric is computed using the following formula: $\\mathrm{VIF} = \\frac{1}{1 - \\mathrm{R}^2}$, where $\\mathrm{R}^2$ is the explanatory power of the regression model from Step 1.\n",
    "A high VIF score of a metric indicates that a given metric can be accurately predicted by the other metrics.\n",
    "Thus, that given metric is considered redundant and should be removed from our model.\n",
    "\n",
    "*(Step 3) Remove metrics with a VIF score that is higher than a given threshold.*\n",
    "We remove metrics with a VIF score that is higher than a given threshold.\n",
    "We use a VIF threshold of 5 to determine the magnitude of multi-collinearity, as it is suggested by Fox {cite}`fox2015applied`.\n",
    "Then, we repeat the above three steps until the VIF scores of all remaining metrics are lower than the pre-defined threshold."
   ]
  },
  {
   "cell_type": "code",
   "execution_count": 22,
   "metadata": {},
   "outputs": [
    {
     "data": {
      "text/html": [
       "<div>\n",
       "<style scoped>\n",
       "    .dataframe tbody tr th:only-of-type {\n",
       "        vertical-align: middle;\n",
       "    }\n",
       "\n",
       "    .dataframe tbody tr th {\n",
       "        vertical-align: top;\n",
       "    }\n",
       "\n",
       "    .dataframe thead th {\n",
       "        text-align: right;\n",
       "    }\n",
       "</style>\n",
       "<table border=\"1\" class=\"dataframe\">\n",
       "  <thead>\n",
       "    <tr style=\"text-align: right;\">\n",
       "      <th></th>\n",
       "      <th>Feature</th>\n",
       "      <th>VIFscore</th>\n",
       "    </tr>\n",
       "  </thead>\n",
       "  <tbody>\n",
       "    <tr>\n",
       "      <th>2</th>\n",
       "      <td>AddedLOC</td>\n",
       "      <td>3.512440e+06</td>\n",
       "    </tr>\n",
       "    <tr>\n",
       "      <th>7</th>\n",
       "      <td>B</td>\n",
       "      <td>2.372701e+06</td>\n",
       "    </tr>\n",
       "    <tr>\n",
       "      <th>6</th>\n",
       "      <td>A</td>\n",
       "      <td>1.047258e+06</td>\n",
       "    </tr>\n",
       "    <tr>\n",
       "      <th>3</th>\n",
       "      <td>nCoupledClass</td>\n",
       "      <td>1.221647e+00</td>\n",
       "    </tr>\n",
       "    <tr>\n",
       "      <th>5</th>\n",
       "      <td>CommentToCodeRatio</td>\n",
       "      <td>1.122744e+00</td>\n",
       "    </tr>\n",
       "    <tr>\n",
       "      <th>1</th>\n",
       "      <td>nCommit</td>\n",
       "      <td>1.040476e+00</td>\n",
       "    </tr>\n",
       "    <tr>\n",
       "      <th>4</th>\n",
       "      <td>LOC</td>\n",
       "      <td>1.018280e+00</td>\n",
       "    </tr>\n",
       "  </tbody>\n",
       "</table>\n",
       "</div>"
      ],
      "text/plain": [
       "              Feature      VIFscore\n",
       "2            AddedLOC  3.512440e+06\n",
       "7                   B  2.372701e+06\n",
       "6                   A  1.047258e+06\n",
       "3       nCoupledClass  1.221647e+00\n",
       "5  CommentToCodeRatio  1.122744e+00\n",
       "1             nCommit  1.040476e+00\n",
       "4                 LOC  1.018280e+00"
      ]
     },
     "execution_count": 22,
     "metadata": {},
     "output_type": "execute_result"
    }
   ],
   "source": [
    "# Import for VIF\n",
    "from statsmodels.stats.outliers_influence import variance_inflation_factor\n",
    "from statsmodels.tools.tools import add_constant\n",
    "\n",
    "# Prepare a dataframe for VIF\n",
    "X_VIF = add_constant(X_train)\n",
    "\n",
    "# Simulate a multicollinearity situation of AddedLOC, A, and B\n",
    "X_VIF['A'] = [2 * x_i + random.random() for x_i in X_VIF['AddedLOC']]\n",
    "X_VIF['B'] = [3 * x_i + random.random() for x_i in X_VIF['AddedLOC']]\n",
    "\n",
    "# Calculate VIF scores\n",
    "vif_scores = pd.DataFrame([variance_inflation_factor(X_VIF.values, i) \n",
    "               for i in range(X_VIF.shape[1])], \n",
    "              index=X_VIF.columns)\n",
    "# Prepare a final dataframe of VIF scores\n",
    "vif_scores.reset_index(inplace = True)\n",
    "vif_scores.columns = ['Feature', 'VIFscore']\n",
    "vif_scores = vif_scores.loc[vif_scores['Feature'] != 'const', :]\n",
    "vif_scores = vif_scores.sort_values(by = ['VIFscore'], ascending = False)\n",
    "vif_scores"
   ]
  },
  {
   "cell_type": "markdown",
   "metadata": {},
   "source": [
    "In this example, we observe that LOC, A, and B are problematic with the VIF scores of above 5.\n",
    "To mitigate multicollinearity, we need to exclude one metric with the highest VIF score, i.e., LOC.\n",
    "We iteratively repeat the process as described above."
   ]
  },
  {
   "cell_type": "code",
   "execution_count": 24,
   "metadata": {
    "tags": [
     "hide-input"
    ]
   },
   "outputs": [
    {
     "name": "stdout",
     "output_type": "stream",
     "text": [
      "Stepwise VIF START\n",
      "Step 1 - exclude AddedLOC\n",
      "Step 2 - exclude B\n",
      "The following features are selected according to Stepwise VIF with the VIF threshold value of 5:\n",
      "              Feature  VIFscore\n",
      "1       nCoupledClass  1.220604\n",
      "4                   A  1.122349\n",
      "3  CommentToCodeRatio  1.120932\n",
      "0             nCommit  1.039831\n",
      "5                 LOC  1.017051\n"
     ]
    }
   ],
   "source": [
    "# Import for VIF\n",
    "from statsmodels.stats.outliers_influence import variance_inflation_factor\n",
    "from statsmodels.tools.tools import add_constant\n",
    "import random\n",
    "\n",
    "# Prepare a dataframe for VIF\n",
    "X_VIF = add_constant(X_train)\n",
    "\n",
    "# Simulate a multicollinearity situation of AddedLOC, A, and B\n",
    "X_VIF['A'] = [2 * x_i + random.random() for x_i in X_VIF['AddedLOC']]\n",
    "X_VIF['B'] = [3 * x_i + random.random() for x_i in X_VIF['AddedLOC']]\n",
    "\n",
    "\n",
    "selected_features = X_VIF.columns\n",
    "\n",
    "# Stepwise-VIF\n",
    "print('Stepwise VIF START')\n",
    "count = 1\n",
    "while True:\n",
    "    # Calculate VIF scores\n",
    "    vif_scores = pd.DataFrame([variance_inflation_factor(X_VIF.values, i) \n",
    "                   for i in range(X_VIF.shape[1])], \n",
    "                  index=X_VIF.columns)\n",
    "    # Prepare a final dataframe of VIF scores\n",
    "    vif_scores.reset_index(inplace = True)\n",
    "    vif_scores.columns = ['Feature', 'VIFscore']\n",
    "    vif_scores = vif_scores.loc[vif_scores['Feature'] != 'const', :]\n",
    "    vif_scores.sort_values(by = ['VIFscore'], ascending = False, inplace = True)\n",
    "    \n",
    "    # Find features that have their VIF scores of above 5.0\n",
    "    filtered_vif_scores = vif_scores[vif_scores['VIFscore'] >= 5.0]\n",
    "    \n",
    "    # Terminate when there is no features with the VIF scores of above 5.0\n",
    "    if len(filtered_vif_scores) == 0:\n",
    "        break\n",
    "        \n",
    "    # exclude the metric with the highest VIF score\n",
    "    metric_to_exclude = list(filtered_vif_scores['Feature'].head(1))[0]\n",
    "    \n",
    "    \n",
    "    print('Step', count,'- exclude', str(metric_to_exclude))\n",
    "    count = count + 1\n",
    "        \n",
    "    selected_features = list(set(selected_features) - set([metric_to_exclude]))\n",
    "    \n",
    "    X_VIF = X_VIF.loc[:, selected_features]\n",
    "print('The following features are selected according to Stepwise VIF with the VIF threshold value of 5:')\n",
    "print(vif_scores)"
   ]
  },
  {
   "cell_type": "markdown",
   "metadata": {},
   "source": [
    "## Feature selection techniques often do not mitigate collinearity and multicollinearity!\n",
    "\n",
    "\n",
    "Feature selection is a data preprocessing technique for selecting a\n",
    "subset of the best software metrics prior to constructing a defect\n",
    "model. There is a plethora of feature selection techniques that can be\n",
    "applied {cite}`guyon2003introduction`, e.g., filter-based, wrapper-based, and\n",
    "embedded-based families. \n",
    "\n",
    "### Filter-based Family\n",
    "\n",
    "Filter-based feature selection techniques search for the best subset of\n",
    "metrics according to an evaluation criterion regardless of model\n",
    "construction. Since constructing models is not required, the use of\n",
    "filter-based feature selection techniques is considered low cost and\n",
    "widely used.\n",
    "\n",
    "**Chi-Squared-based feature selection** {cite}`mchugh2013chi` assesses the\n",
    "importance of metrics with the $\\chi^2$ statistic which is a\n",
    "non-parametric statistical test of independence.\n"
   ]
  },
  {
   "cell_type": "code",
   "execution_count": 32,
   "metadata": {},
   "outputs": [
    {
     "name": "stdout",
     "output_type": "stream",
     "text": [
      "Top-k features (k =3) according to Chi-squared statistics are as follows:\n",
      "              Feature         Score\n",
      "1            AddedLOC  26834.488115\n",
      "2       nCoupledClass   1599.996258\n",
      "4  CommentToCodeRatio     64.268658\n"
     ]
    }
   ],
   "source": [
    "# Import for Chi-sqaured-based feature selection technique\n",
    "from sklearn.feature_selection import SelectKBest, chi2\n",
    "\n",
    "top_k = 3\n",
    "chi2_fs = SelectKBest(chi2, k=top_k).fit(X_train, y_train)\n",
    "dfscores = pd.DataFrame(chi2_fs.scores_)\n",
    "dfcolumns = pd.DataFrame(features)\n",
    "#concat two dataframes for better visualization \n",
    "featureScores = pd.concat([dfcolumns,dfscores],axis=1)\n",
    "featureScores.columns = ['Feature','Score'] \n",
    "print('Top-k features (k ='+str(top_k)+') according to Chi-squared statistics are as follows:')\n",
    "print(featureScores.nlargest(top_k,'Score')) "
   ]
  },
  {
   "cell_type": "markdown",
   "metadata": {},
   "source": [
    "\n",
    "### Wrapper-based Family\n",
    "\n",
    "Wrapper-based feature selection\n",
    "techniques {cite}`john1994irrelevant`{cite}`kohavi1997wrappers` use classification\n",
    "techniques to assess each subset of metrics and find the best subset of\n",
    "metrics according to an evaluation criterion. Wrapper-based feature\n",
    "selection is made up of three steps, which we described below.\n",
    "\n",
    "*(Step 1) Generate a subset of metrics.* Since it is impossible to\n",
    "evaluate all possible subsets of metrics, wrapper-based feature\n",
    "selection often uses search techniques (e.g., best first, greedy hill\n",
    "climbing) to generate candidate subsets of metrics for evaluation.\n",
    "\n",
    "*(Step 2) Construct a classifier using a subset of metrics with a\n",
    "predetermined classification technique.* Wrapper-based feature selection\n",
    "constructs a classification model using a candidate subset of metrics\n",
    "for a given classification technique (e.g., logistic regression and\n",
    "random forest).\n",
    "\n",
    "*(Step 3) Evaluate the classifier according to a given evaluation\n",
    "criterion.* Once the classifier is constructed, wrapper-based feature\n",
    "selection evaluates the classifier using a given evaluation criterion\n",
    "(e.g., Akaike Information Criterion).\n",
    "\n",
    "For each candidate subset of metrics, wrapper-based feature selection\n",
    "repeats Steps 2 and 3 in order to find the best subset of metrics\n",
    "according to the evaluation criterion. Finally, it provides the best\n",
    "subset of metrics that yields the highest performance according to the\n",
    "evaluation criterion.\n",
    "\n",
    "**Recursive Feature Elimination** (RFE) {cite}`guyon2003introduction`\n",
    "searches for the best subset of metrics by recursively eliminating the\n",
    "least important metric. First, RFE constructs a model using all metrics\n",
    "and ranks metrics according to their importance score (e.g., Breiman's\n",
    "Variable Importance for random forest). In each iteration, RFE excludes\n",
    "the least important metric and reconstructs a model. Finally, RFE\n",
    "provides the subset of metrics which yields the best performance\n",
    "according to an evaluation criterion (e.g., AUC).\n"
   ]
  },
  {
   "cell_type": "code",
   "execution_count": 27,
   "metadata": {},
   "outputs": [
    {
     "name": "stdout",
     "output_type": "stream",
     "text": [
      "Top-k (k =3) according to the RFE teachnique are as follows:\n",
      "['AddedLOC', 'nCoupledClass', 'CommentToCodeRatio']\n"
     ]
    }
   ],
   "source": [
    "# Feature Extraction with RFE\n",
    "from sklearn.feature_selection import RFE\n",
    "from sklearn.ensemble import RandomForestClassifier\n",
    "from itertools import compress\n",
    "top_k = 3\n",
    "rf_model = RandomForestClassifier(random_state=1234, n_jobs = 10)\n",
    "rfe = RFE(rf_model, n_features_to_select = top_k)\n",
    "rfe_fit = rfe.fit(X_train, y_train)\n",
    "rfe_features = list(compress(features, rfe_fit.support_))\n",
    "print('Top-k (k ='+str(top_k)+') according to the RFE teachnique are as follows:')\n",
    "print(rfe_features)"
   ]
  },
  {
   "cell_type": "markdown",
   "metadata": {},
   "source": [
    "Below, we provide an interactive tutorial to show that feature selection techniques may not mitigate collinearity and multicollinearity.\n",
    "\n",
    "In this tutorial, we stimulate a multicollinearity situation of `AddedLOC`, `A`, and `B`.\n",
    "However, all of these highly-correlated metrics with multicollinearity are selected by the Chi-squared feature selection technique.\n",
    "In addition, according to the Recursive Feature Elimination technique, `A` and `B` are among the top-3 metrics that are selected.\n",
    "These findings suggest that feature selection techniques may select highly-correlated metrics and do not mitigate collinearity and multicollinearity."
   ]
  },
  {
   "cell_type": "code",
   "execution_count": 35,
   "metadata": {},
   "outputs": [
    {
     "name": "stdout",
     "output_type": "stream",
     "text": [
      "Top-k features (k =3) according to Chi-squared statistics are as follows:\n",
      "    Feature         Score\n",
      "7         B  80338.280839\n",
      "6         A  53497.413529\n",
      "2  AddedLOC  26834.488115\n",
      "Top-k (k =3) according to the RFE teachnique are as follows:\n",
      "['nCoupledClass', 'A', 'B']\n"
     ]
    }
   ],
   "source": [
    "# Prepare a dataframe for simulation\n",
    "X_simulation_train = add_constant(X_train)\n",
    "\n",
    "# Simulate a multicollinearity situation of AddedLOC, A, and B\n",
    "X_simulation_train['A'] = [2 * x_i + random.random() for x_i in X_simulation_train['AddedLOC']]\n",
    "X_simulation_train['B'] = [3 * x_i + random.random() for x_i in X_simulation_train['AddedLOC']]\n",
    "\n",
    "# apply the Chi-squared feature selection technique\n",
    "top_k = 3\n",
    "chi2_fs = SelectKBest(chi2, k=top_k).fit(X_simulation_train, y_train)\n",
    "dfscores = pd.DataFrame(chi2_fs.scores_)\n",
    "dfcolumns = pd.DataFrame(X_simulation_train.columns)\n",
    "#concat two dataframes for better visualization \n",
    "featureScores = pd.concat([dfcolumns,dfscores],axis=1)\n",
    "featureScores.columns = ['Feature','Score'] \n",
    "print('Top-k features (k =' + str(top_k) +') according to Chi-squared statistics are as follows:')\n",
    "print(featureScores.nlargest(top_k,'Score')) \n",
    "\n",
    "# apply the Recursive Feature Elimination technique\n",
    "rf_model = RandomForestClassifier(random_state=1234, n_jobs = 10)\n",
    "rfe = RFE(rf_model, n_features_to_select = top_k)\n",
    "rfe_fit = rfe.fit(X_simulation_train, y_train)\n",
    "rfe_features = list(compress(X_simulation_train.columns, rfe_fit.support_))\n",
    "print('Top-k (k ='+str(top_k)+') according to the RFE teachnique are as follows:')\n",
    "print(rfe_features)\n"
   ]
  },
  {
   "cell_type": "markdown",
   "metadata": {},
   "source": [
    "To handle collinearity and multicollinearity, correlation analysis techniques (e.g., Spearman rank correlation test and Variance Inflation Factor analysis) should be used.\n",
    "However, these correlation analysis techniques often involve manual process.\n",
    "For example, in the above tutorial (Collinearity), the Spearman rank correlation test was used to measure the pair-wise correlation among metrics and presented using the heatmap plot.\n",
    "In the tutorial, we found that `AddedLOC` and `A` are highly-correlated with the Spearman correlation of 1 (perfect correlation).\n",
    "To mitigate this, we have to select one of them but the question is *Which one shoud lb"
   ]
  },
  {
   "cell_type": "markdown",
   "metadata": {},
   "source": [
    "## AutoSpearman: An automated feature selection approach that address collinearity and multicollinearity\n",
    "\n",
    "\n",
    "Jiarpakdee *et al.* {cite}`jiarpakdee2018icsme`{cite}`jiarpakdee2020impactfss` [@jiarpakdee2018autospearman] introduce , an\n",
    "automated metric selection approach based on the Spearman rank\n",
    "correlation test and the VIF analysis for statistical inference. \n",
    "The high-level concept of can be summarised into 2 parts:\n",
    "\n",
    "*(Part 1) Automatically select non-correlated metrics based on a\n",
    "Spearman rank correlation test.* We first measure the correlation of all\n",
    "metrics using the Spearman rank correlation test ($\\rho$) (*cf.* Line\n",
    "2). We use the interpretation of correlation coefficients ($|\\rho|$) as\n",
    "provided by Kraemer {cite}`kraemer2003measures`---i.e., a Spearman\n",
    "correlation coefficient of above or equal to 0.7 is considered a strong\n",
    "correlation. Thus, we only consider the pairs that have an absolute\n",
    "Spearman correlation coefficient of above or equal to the threshold\n",
    "value ($sp.t$) of 0.7.\n",
    "\n",
    "To automatically select non-correlated metrics based on the Spearman\n",
    "rank correlation test, we start from the pair that has the highest\n",
    "Spearman correlation coefficient. Since the two\n",
    "correlated metrics under examination can be linearly predicted with each\n",
    "other, one of these two metrics must be removed. Thus, we select the\n",
    "metric that has the lowest average values of the absolute Spearman\n",
    "correlation coefficients of the other metrics that are not included in\n",
    "the pair. That means the removed metric is another metric\n",
    "in the pair that is not selected. Since the removed\n",
    "metric may be correlated with the other metrics, we remove any pairs of\n",
    "metrics that are correlated with the removed metric.\n",
    "Finally, we exclude the removed metric from the set of the remaining\n",
    "metrics ($M'$). We repeat this process until all pairs of\n",
    "metrics have their Spearman correlation coefficient below a threshold\n",
    "value of 0.7.\n",
    "\n",
    "*(Part 2) Automatically select non-correlated metrics based on a\n",
    "Variance Inflation Factor analysis.* We first measure the magnitude of\n",
    "multicollinearity of the remaining metrics ($M'$) from `Part 1` using\n",
    "the Variance Inflation Factor analysis (*cf.* Line 12). We use a VIF\n",
    "threshold value ($vif.t$) of 5 to identify the presence of\n",
    "multicollinearity, as suggested by Fox {cite}`fox2015applied`.\n",
    "\n",
    "To automatically remove correlated metrics from the Variance Inflation\n",
    "Factor analysis, we identify the removed metric as the metric that has\n",
    "the highest VIF score. We then exclude the removed\n",
    "metric from the set of the remaining metrics ($M'$). We\n",
    "apply the VIF analysis on the remaining metrics until none of the\n",
    "remaining metrics have their VIF scores above or equal to the threshold\n",
    "value. Finally,  produces a subset of non-correlated\n",
    "metrics based on the Spearman rank correlation test and the VIF analysis\n",
    "($M'$).\n",
    "\n",
    "Similar to filter-based feature selection techniques, *Part 1*\n",
    "of  measures the correlation of all metrics using the Spearman rank\n",
    "correlation test regardless of model construction. Similar to\n",
    "wrapper-based feature selection techniques, *Part 2* of  constructs\n",
    "regression models to measure the magnitude of multicollinearity of\n",
    "metrics. Thus, we consider  as a hybrid feature selection technique\n",
    "(both filter-based and wrapper-based).\n",
    "\n",
    "\n",
    "TODO - include Tutorials for AutoSpearman"
   ]
  },
  {
   "cell_type": "markdown",
   "metadata": {},
   "source": [
    "```{note}\n",
    "Parts of this chapter have been published by Jirayus Jiarpakdee, Chakkrit Tantithamthavorn, Ahmed E. Hassan: The Impact of Correlated Metrics on the Interpretation of Defect Models. IEEE Trans. Software Eng. 47(2): 320-331 (2021) https://doi.org/10.1109/TSE.2019.2891758\"\n",
    "```\n",
    "\n",
    "\n",
    "### Suggested Readings\n",
    "\n",
    "[1] Jirayus Jiarpakdee, Chakkrit Tantithamthavorn, Ahmed E. Hassan: The Impact of Correlated Metrics on the Interpretation of Defect Models. IEEE Trans. Software Eng. 47(2): 320-331 (2021)\n",
    "\n",
    "[2] Jirayus Jiarpakdee, Chakkrit Tantithamthavorn, Christoph Treude:\n",
    "The impact of automated feature selection techniques on the interpretation of defect models. Empir. Softw. Eng. 25(5): 3590-3638 (2020)\n",
    "\n",
    "[3] Jirayus Jiarpakdee, Chakkrit Tantithamthavorn, Christoph Treude:\n",
    "AutoSpearman: Automatically Mitigating Correlated Software Metrics for Interpreting Defect Models. ICSME 2018: 92-103\n"
   ]
  },
  {
   "cell_type": "markdown",
   "metadata": {},
   "source": []
  }
 ],
 "metadata": {
  "celltoolbar": "Tags",
  "kernelspec": {
   "display_name": "xaitools",
   "language": "python",
   "name": "xaitools"
  },
  "language_info": {
   "codemirror_mode": {
    "name": "ipython",
    "version": 3
   },
   "file_extension": ".py",
   "mimetype": "text/x-python",
   "name": "python",
   "nbconvert_exporter": "python",
   "pygments_lexer": "ipython3",
   "version": "3.6.13"
  }
 },
 "nbformat": 4,
 "nbformat_minor": 5
}
