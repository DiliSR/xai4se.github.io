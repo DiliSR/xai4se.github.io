{
 "cells": [
  {
   "cell_type": "markdown",
   "id": "marked-investing",
   "metadata": {},
   "source": [
    "# Defect Prediction Datasets"
   ]
  },
  {
   "cell_type": "code",
   "execution_count": null,
   "id": "magnetic-employee",
   "metadata": {},
   "outputs": [],
   "source": []
  }
 ],
 "metadata": {
  "kernelspec": {
   "display_name": "xaitools",
   "language": "python",
   "name": "xaitools"
  },
  "language_info": {
   "name": ""
  }
 },
 "nbformat": 4,
 "nbformat_minor": 5
}
