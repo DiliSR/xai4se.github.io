{
 "cells": [
  {
   "cell_type": "markdown",
   "metadata": {},
   "source": [
    "# A Theory of Explainability\n",
    "\n",
    "According to philosophy, social science, and psychology theories, a\n",
    "common definition of *explainability or interpretability* is *the degree\n",
    "to which a human can understand the reasons behind a decision or an\n",
    "action* {cite}`Miller19`. The explainability of AI/ML algorithms can be\n",
    "achieved by (1) making the entire decision-making process transparent\n",
    "and comprehensible and (2) explicitly providing an explanation for each\n",
    "decision {cite}`lipton2018mythos` (since an explanation is not likely applicable to\n",
    "all decisions {cite}`leake2014evaluating`. Hence, research has emerged to\n",
    "explore how to explain decisions made by complex, black-box models and\n",
    "how explanations are presented in a form that would be easily understood\n",
    "(and hence, accepted) by humans."
   ]
  }
 ],
 "metadata": {
  "kernelspec": {
   "display_name": "xaitools",
   "language": "python",
   "name": "xaitools"
  },
  "language_info": {
   "codemirror_mode": {
    "name": "ipython",
    "version": 3
   },
   "file_extension": ".py",
   "mimetype": "text/x-python",
   "name": "python",
   "nbconvert_exporter": "python",
   "pygments_lexer": "ipython3",
   "version": "3.6.13"
  }
 },
 "nbformat": 4,
 "nbformat_minor": 4
}
