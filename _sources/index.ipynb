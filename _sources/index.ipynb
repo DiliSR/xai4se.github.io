{
 "cells": [
  {
   "cell_type": "markdown",
   "metadata": {},
   "source": [
    "# Actionable Analytics: Stop Telling Me What Is, Please Telling Me What To Do!\n",
    "\n",
    "\n",
    "# Welcome to \"The Actionable Analytics Book\"!\n",
    "\n",
    "**\"Is Software Analytics Actionable?\"** Software analytics aims discover actionable insights from software data. Sadly, we found that 91% (81/96) of recent software analytics studies for defect prediction are focus on improving the predictive accuracy, while as few as 4\\%  are `explainable` and `actionable` i.e. focus on explaining the predictions and generating actionable guidance.\n",
    "**\"Is the Community Moving to the Right Direction?\"**\n",
    "\n",
    "We argue that explainable and actionable software analytics is urgently and critically needed. We discuss reasons and present initial evidence from a successful case study towards providing more actionable software analytics. This study guides developers on what to do and what to avoid to reduce software defects.\n",
    "\n",
    "In this book, we provide an interactive tutorial on the subject of Explainable AI tools for SE for Actionable Analytics (\\url{http://xai4se.github.io}), and discuss some open questions that need to be addressed. \n",
    "\n",
    "Cite this book:\n",
    "```{note}\n",
    "TODO\n",
    "```"
   ]
  },
  {
   "cell_type": "code",
   "execution_count": null,
   "metadata": {},
   "outputs": [],
   "source": []
  }
 ],
 "metadata": {
  "kernelspec": {
   "display_name": "xaitools",
   "language": "python",
   "name": "xaitools"
  },
  "language_info": {
   "codemirror_mode": {
    "name": "ipython",
    "version": 3
   },
   "file_extension": ".py",
   "mimetype": "text/x-python",
   "name": "python",
   "nbconvert_exporter": "python",
   "pygments_lexer": "ipython3",
   "version": "3.6.13"
  }
 },
 "nbformat": 4,
 "nbformat_minor": 4
}
